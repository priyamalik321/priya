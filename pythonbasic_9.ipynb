{
 "cells": [
  {
   "cell_type": "markdown",
   "id": "c0fb2dc5",
   "metadata": {},
   "source": [
    "1. To what does a relative path refer?\n",
    "\n",
    "Answer(1)relative path refer to path of some file with current working directory.\n",
    "\n",
    "eg: path.py ,  path.txt ,etc"
   ]
  },
  {
   "cell_type": "markdown",
   "id": "c03d874f",
   "metadata": {},
   "source": [
    "2. What does an absolute path start with your operating system?\n",
    "\n",
    "Answer(2)Absolute path starts with a complete root ,with your system.\n",
    "\n",
    "It not directly link with any system, as like relative path."
   ]
  },
  {
   "cell_type": "markdown",
   "id": "f8e45bae",
   "metadata": {},
   "source": [
    "3. What do the functions os.getcwd() and os.chdir() do?\n",
    "\n",
    "Answer(3) It will show current working directory = os.getcwd() \n",
    "    \n",
    "    It help to change in current working directory= os.chdir()   \n",
    "    \n",
    "    "
   ]
  },
  {
   "cell_type": "markdown",
   "id": "b4b021b3",
   "metadata": {},
   "source": [
    "4. What are the . and .. folders?\n",
    "\n",
    "Answer(4)(.)= it means a shorter folder for directory.\n",
    "\n",
    "         (..)= it means a parent folder for directory."
   ]
  },
  {
   "cell_type": "markdown",
   "id": "0c3b1906",
   "metadata": {},
   "source": [
    "5. In C:\\bacon\\eggs\\spam.txt, which part is the dir name, and which part is the base name?\n",
    "\n",
    "Answer(5)C:\\bacon\\eggs\\ = dir name\n",
    "    \n",
    "    spam.txt=base name"
   ]
  },
  {
   "cell_type": "markdown",
   "id": "77b110c9",
   "metadata": {},
   "source": [
    "6. What are the three “mode” arguments that can be passed to the open() function?\n",
    "\n",
    "answer(6)Three modes are:\n",
    "    \"w\",\"r\",\"a\""
   ]
  },
  {
   "cell_type": "markdown",
   "id": "ac9f3433",
   "metadata": {},
   "source": [
    "7. What happens if an existing file is opened in write mode?\n",
    "\n",
    "answer(7)if an existing file is opened in write mode then it will show on our computer screen in write mode."
   ]
  },
  {
   "cell_type": "markdown",
   "id": "4a6102c6",
   "metadata": {},
   "source": [
    "8. How do you tell the difference between read() and readlines()?\n",
    "\n",
    "Answer(8)read()= It means it will read complete comprehension in continue manner.\n",
    "\n",
    "readline()= It help  to read any comprehension line by line (\\n)"
   ]
  },
  {
   "cell_type": "markdown",
   "id": "8054aff9",
   "metadata": {},
   "source": [
    "9. What data structure does a shelf value resemble?\n",
    "Answer(9)Dictionary including (keys,values)"
   ]
  },
  {
   "cell_type": "code",
   "execution_count": null,
   "id": "321b5205",
   "metadata": {},
   "outputs": [],
   "source": []
  }
 ],
 "metadata": {
  "kernelspec": {
   "display_name": "Python 3 (ipykernel)",
   "language": "python",
   "name": "python3"
  },
  "language_info": {
   "codemirror_mode": {
    "name": "ipython",
    "version": 3
   },
   "file_extension": ".py",
   "mimetype": "text/x-python",
   "name": "python",
   "nbconvert_exporter": "python",
   "pygments_lexer": "ipython3",
   "version": "3.10.9"
  }
 },
 "nbformat": 4,
 "nbformat_minor": 5
}
