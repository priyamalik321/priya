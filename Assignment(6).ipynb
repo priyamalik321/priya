{
 "cells": [
  {
   "cell_type": "markdown",
   "id": "cdacad88",
   "metadata": {},
   "source": [
    "Answer(1)\n",
    "Escape character= Escape characters are symbol which used in ruining operatios.\n",
    "\n",
    "eg:\n",
    "   ( \\n,\\t,\\b,\\r,\\''),etc\n",
    "   \n",
    "(i)\\n= It is used to write something in new line.\n",
    "\n",
    "(ii)\\t= It is used when we want space in one complete line.\n",
    "\n",
    "(iii)\\b=It is used when we want to remove any character of word  from line.\n",
    "\n",
    "(iv)\\r= It is used when we want to write something at first position or starting position.\n",
    "    \n",
    "    \n"
   ]
  },
  {
   "cell_type": "markdown",
   "id": "2b5ded88",
   "metadata": {},
   "source": [
    "Answer(2)\n",
    "character \\n stand for new line\n",
    "\n",
    "character \\t stand for space between two word or in line."
   ]
  },
  {
   "cell_type": "code",
   "execution_count": 73,
   "id": "51fd04d0",
   "metadata": {},
   "outputs": [
    {
     "name": "stdout",
     "output_type": "stream",
     "text": [
      "this is my\b book\n"
     ]
    }
   ],
   "source": [
    "#Answer(3)\n",
    "print(\"this is my\\b book\")"
   ]
  },
  {
   "cell_type": "markdown",
   "id": "47561fd0",
   "metadata": {},
   "source": [
    "Answer(4)\n",
    "\n",
    "\"howl's moving castle\" = it is correct value because we use double quotation mark at starting point and ending point,we use single mark ,so it's fine.\n"
   ]
  },
  {
   "cell_type": "code",
   "execution_count": 55,
   "id": "6bfd7871",
   "metadata": {},
   "outputs": [
    {
     "name": "stdout",
     "output_type": "stream",
     "text": [
      "yhis is my book\n",
      "dieidei\n"
     ]
    }
   ],
   "source": [
    "#Answer(5)\n",
    "print(\"this is my book\"),\n",
    "print(\"dieidei\")"
   ]
  },
  {
   "cell_type": "code",
   "execution_count": 42,
   "id": "1f829bc4",
   "metadata": {},
   "outputs": [
    {
     "data": {
      "text/plain": [
       "'e'"
      ]
     },
     "execution_count": 42,
     "metadata": {},
     "output_type": "execute_result"
    }
   ],
   "source": [
    "#Answer(6)\n",
    "'Hello, world!'[1]"
   ]
  },
  {
   "cell_type": "code",
   "execution_count": 3,
   "id": "ba9eb918",
   "metadata": {},
   "outputs": [
    {
     "data": {
      "text/plain": [
       "'Hello'"
      ]
     },
     "execution_count": 3,
     "metadata": {},
     "output_type": "execute_result"
    }
   ],
   "source": [
    "'Hello, world!'[0:5]"
   ]
  },
  {
   "cell_type": "code",
   "execution_count": 4,
   "id": "2be9d661",
   "metadata": {},
   "outputs": [
    {
     "data": {
      "text/plain": [
       "'Hello'"
      ]
     },
     "execution_count": 4,
     "metadata": {},
     "output_type": "execute_result"
    }
   ],
   "source": [
    "'Hello, world!'[:5]"
   ]
  },
  {
   "cell_type": "code",
   "execution_count": 5,
   "id": "f5d20f22",
   "metadata": {},
   "outputs": [
    {
     "data": {
      "text/plain": [
       "'lo, world!'"
      ]
     },
     "execution_count": 5,
     "metadata": {},
     "output_type": "execute_result"
    }
   ],
   "source": [
    "'Hello, world!'[3:]"
   ]
  },
  {
   "cell_type": "markdown",
   "id": "5b0e5674",
   "metadata": {},
   "source": [
    " Answer(7)"
   ]
  },
  {
   "cell_type": "code",
   "execution_count": 9,
   "id": "952dddd3",
   "metadata": {},
   "outputs": [
    {
     "data": {
      "text/plain": [
       "'HELLO'"
      ]
     },
     "execution_count": 9,
     "metadata": {},
     "output_type": "execute_result"
    }
   ],
   "source": [
    "'Hello'.upper()\n"
   ]
  },
  {
   "cell_type": "code",
   "execution_count": 10,
   "id": "cecf9543",
   "metadata": {},
   "outputs": [
    {
     "data": {
      "text/plain": [
       "True"
      ]
     },
     "execution_count": 10,
     "metadata": {},
     "output_type": "execute_result"
    }
   ],
   "source": [
    "'Hello'.upper().isupper()"
   ]
  },
  {
   "cell_type": "code",
   "execution_count": 11,
   "id": "0f7b722b",
   "metadata": {},
   "outputs": [
    {
     "data": {
      "text/plain": [
       "'hello'"
      ]
     },
     "execution_count": 11,
     "metadata": {},
     "output_type": "execute_result"
    }
   ],
   "source": [
    "'Hello'.upper().lower()"
   ]
  },
  {
   "cell_type": "markdown",
   "id": "857d4e5e",
   "metadata": {},
   "source": [
    " Answer(8)"
   ]
  },
  {
   "cell_type": "code",
   "execution_count": 14,
   "id": "49a709fc",
   "metadata": {},
   "outputs": [
    {
     "data": {
      "text/plain": [
       "['Remember,', 'remember,', 'the', 'fifth', 'of', 'July.']"
      ]
     },
     "execution_count": 14,
     "metadata": {},
     "output_type": "execute_result"
    }
   ],
   "source": [
    "'Remember, remember, the fifth of July.'.split()"
   ]
  },
  {
   "cell_type": "code",
   "execution_count": 17,
   "id": "0e4c2135",
   "metadata": {},
   "outputs": [
    {
     "data": {
      "text/plain": [
       "'There-can-only-one.'"
      ]
     },
     "execution_count": 17,
     "metadata": {},
     "output_type": "execute_result"
    }
   ],
   "source": [
    "'-'.join('There can only one.'.split())"
   ]
  },
  {
   "cell_type": "markdown",
   "id": "47abb26e",
   "metadata": {},
   "source": [
    "Answer(9)"
   ]
  },
  {
   "cell_type": "code",
   "execution_count": 36,
   "id": "5ee208b9",
   "metadata": {},
   "outputs": [],
   "source": [
    "\n",
    "s=' priya   '"
   ]
  },
  {
   "cell_type": "code",
   "execution_count": 37,
   "id": "037f9b97",
   "metadata": {},
   "outputs": [
    {
     "data": {
      "text/plain": [
       "'priya   '"
      ]
     },
     "execution_count": 37,
     "metadata": {},
     "output_type": "execute_result"
    }
   ],
   "source": [
    "s.lstrip()"
   ]
  },
  {
   "cell_type": "code",
   "execution_count": 38,
   "id": "389870bf",
   "metadata": {},
   "outputs": [
    {
     "data": {
      "text/plain": [
       "' priya'"
      ]
     },
     "execution_count": 38,
     "metadata": {},
     "output_type": "execute_result"
    }
   ],
   "source": [
    "s.rstrip()"
   ]
  },
  {
   "cell_type": "code",
   "execution_count": 39,
   "id": "bef41be1",
   "metadata": {},
   "outputs": [
    {
     "data": {
      "text/plain": [
       "'priya'"
      ]
     },
     "execution_count": 39,
     "metadata": {},
     "output_type": "execute_result"
    }
   ],
   "source": [
    "s.strip()"
   ]
  },
  {
   "cell_type": "code",
   "execution_count": null,
   "id": "34a42381",
   "metadata": {},
   "outputs": [],
   "source": []
  },
  {
   "cell_type": "markdown",
   "id": "9b718b99",
   "metadata": {},
   "source": [
    "Answer(10)"
   ]
  },
  {
   "cell_type": "code",
   "execution_count": 41,
   "id": "74480dc2",
   "metadata": {},
   "outputs": [
    {
     "data": {
      "text/plain": [
       "'priya'"
      ]
     },
     "execution_count": 41,
     "metadata": {},
     "output_type": "execute_result"
    }
   ],
   "source": [
    "s.strip()"
   ]
  },
  {
   "cell_type": "code",
   "execution_count": null,
   "id": "82acf540",
   "metadata": {},
   "outputs": [],
   "source": []
  }
 ],
 "metadata": {
  "kernelspec": {
   "display_name": "Python 3 (ipykernel)",
   "language": "python",
   "name": "python3"
  },
  "language_info": {
   "codemirror_mode": {
    "name": "ipython",
    "version": 3
   },
   "file_extension": ".py",
   "mimetype": "text/x-python",
   "name": "python",
   "nbconvert_exporter": "python",
   "pygments_lexer": "ipython3",
   "version": "3.9.7"
  }
 },
 "nbformat": 4,
 "nbformat_minor": 5
}
