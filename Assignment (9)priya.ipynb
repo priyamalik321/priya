{
 "cells": [
  {
   "cell_type": "markdown",
   "id": "c0fb2dc5",
   "metadata": {},
   "source": [
    "Answer(1)relative path refer to path of some file with current working directory.\n",
    "\n",
    "eg: path.py ,  path.txt ,etc"
   ]
  },
  {
   "cell_type": "markdown",
   "id": "c03d874f",
   "metadata": {},
   "source": [
    "Answer(2)Absolute path starts with a complete root ,with your system.\n",
    "\n",
    "It not directly link with any system, as like relative path."
   ]
  },
  {
   "cell_type": "markdown",
   "id": "f8e45bae",
   "metadata": {},
   "source": [
    " Answer(3) It will show current working directory = os.getcwd() \n",
    "    \n",
    "    It help to change in current working directory= os.chdir()   \n",
    "    \n",
    "    "
   ]
  },
  {
   "cell_type": "markdown",
   "id": "b4b021b3",
   "metadata": {},
   "source": [
    "Answer(4)(.)= it means a shorter folder for directory.\n",
    "\n",
    "         (..)= it means a parent folder for directory."
   ]
  },
  {
   "cell_type": "markdown",
   "id": "0c3b1906",
   "metadata": {},
   "source": [
    "Answer(5)C:\\bacon\\eggs\\ = dir name\n",
    "    \n",
    "    spam.txt=base name"
   ]
  },
  {
   "cell_type": "markdown",
   "id": "77b110c9",
   "metadata": {},
   "source": [
    "answer(6)Three modes are:\n",
    "    \"w\",\"r\",\"a\""
   ]
  },
  {
   "cell_type": "markdown",
   "id": "ac9f3433",
   "metadata": {},
   "source": [
    "answer(7)if an existing file is opened in write mode then it will show on our computer screen in write mode."
   ]
  },
  {
   "cell_type": "markdown",
   "id": "4a6102c6",
   "metadata": {},
   "source": [
    "Answer(8)read()= It means it will read complete comprehension in continue manner.\n",
    "\n",
    "readline()= It help  to read any comprehension line by line (\\n)"
   ]
  },
  {
   "cell_type": "markdown",
   "id": "8054aff9",
   "metadata": {},
   "source": [
    "Answer(9)Dictionary including (keys,values)"
   ]
  },
  {
   "cell_type": "code",
   "execution_count": null,
   "id": "321b5205",
   "metadata": {},
   "outputs": [],
   "source": []
  }
 ],
 "metadata": {
  "kernelspec": {
   "display_name": "Python 3 (ipykernel)",
   "language": "python",
   "name": "python3"
  },
  "language_info": {
   "codemirror_mode": {
    "name": "ipython",
    "version": 3
   },
   "file_extension": ".py",
   "mimetype": "text/x-python",
   "name": "python",
   "nbconvert_exporter": "python",
   "pygments_lexer": "ipython3",
   "version": "3.10.9"
  }
 },
 "nbformat": 4,
 "nbformat_minor": 5
}
