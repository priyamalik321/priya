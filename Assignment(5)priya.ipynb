{
 "cells": [
  {
   "cell_type": "markdown",
   "id": "bf146855",
   "metadata": {},
   "source": [
    " ASSIGNMENT(5)"
   ]
  },
  {
   "cell_type": "code",
   "execution_count": 10,
   "id": "a75c865c",
   "metadata": {},
   "outputs": [],
   "source": [
    "#answer(1)\n",
    "d={}"
   ]
  },
  {
   "cell_type": "code",
   "execution_count": 11,
   "id": "7d266f28",
   "metadata": {},
   "outputs": [
    {
     "name": "stdout",
     "output_type": "stream",
     "text": [
      "{}\n"
     ]
    }
   ],
   "source": [
    "print(d)"
   ]
  },
  {
   "cell_type": "markdown",
   "id": "fe5e3105",
   "metadata": {},
   "source": [
    "answer(2)"
   ]
  },
  {
   "cell_type": "code",
   "execution_count": 12,
   "id": "dfb22754",
   "metadata": {},
   "outputs": [],
   "source": [
    "d={\"foo\":42}"
   ]
  },
  {
   "cell_type": "code",
   "execution_count": 20,
   "id": "bf2d934d",
   "metadata": {},
   "outputs": [
    {
     "data": {
      "text/plain": [
       "dict_values([42])"
      ]
     },
     "execution_count": 20,
     "metadata": {},
     "output_type": "execute_result"
    }
   ],
   "source": [
    "d.values()\n"
   ]
  },
  {
   "cell_type": "markdown",
   "id": "56edf045",
   "metadata": {},
   "source": [
    "answer(3)"
   ]
  },
  {
   "cell_type": "markdown",
   "id": "a78386ea",
   "metadata": {},
   "source": [
    "dictionary= dictionary having keys and its value .\n",
    "in dict keys ,values are store in curly bracket {}.\n",
    "eg: {'a':12}\n",
    "    \n",
    "list= list having collection of data , and different type of values.\n",
    "value in list closed in square bracket.\n",
    "eg: [1,2,3,4,5]"
   ]
  },
  {
   "cell_type": "markdown",
   "id": "71b2baf3",
   "metadata": {},
   "source": [
    "Answer(4)"
   ]
  },
  {
   "cell_type": "code",
   "execution_count": 23,
   "id": "3cd9fc13",
   "metadata": {},
   "outputs": [],
   "source": [
    "spam={'bar':100}"
   ]
  },
  {
   "cell_type": "code",
   "execution_count": 26,
   "id": "a261723a",
   "metadata": {},
   "outputs": [
    {
     "ename": "KeyError",
     "evalue": "'foo'",
     "output_type": "error",
     "traceback": [
      "\u001b[1;31m---------------------------------------------------------------------------\u001b[0m",
      "\u001b[1;31mKeyError\u001b[0m                                  Traceback (most recent call last)",
      "\u001b[1;32m~\\AppData\\Local\\Temp/ipykernel_3980/3999281786.py\u001b[0m in \u001b[0;36m<module>\u001b[1;34m\u001b[0m\n\u001b[1;32m----> 1\u001b[1;33m \u001b[0mspam\u001b[0m\u001b[1;33m[\u001b[0m\u001b[1;34m'foo'\u001b[0m\u001b[1;33m]\u001b[0m\u001b[1;33m\u001b[0m\u001b[1;33m\u001b[0m\u001b[0m\n\u001b[0m",
      "\u001b[1;31mKeyError\u001b[0m: 'foo'"
     ]
    }
   ],
   "source": [
    "spam['foo']    # it will give error"
   ]
  },
  {
   "cell_type": "markdown",
   "id": "1596b77e",
   "metadata": {},
   "source": [
    "Answer(5)the expression show that 'cat' in spam, or check weather 'cat' is present in spam.keys()value."
   ]
  },
  {
   "cell_type": "markdown",
   "id": "5d371536",
   "metadata": {},
   "source": [
    "Answer(6)If dict is stored in spam ,then expression show that 'cat'is present in spam and chek weather \n",
    "'cat' is value of spam."
   ]
  },
  {
   "cell_type": "code",
   "execution_count": 39,
   "id": "e74cec3d",
   "metadata": {},
   "outputs": [
    {
     "data": {
      "text/plain": [
       "'black'"
      ]
     },
     "execution_count": 39,
     "metadata": {},
     "output_type": "execute_result"
    }
   ],
   "source": [
    "#Answer(7)\n",
    "spam.setdefault('color','black')"
   ]
  },
  {
   "cell_type": "markdown",
   "id": "25a989cd",
   "metadata": {},
   "source": [
    "Answer(8)\n",
    "pprint.pprint()"
   ]
  },
  {
   "cell_type": "code",
   "execution_count": null,
   "id": "fab755e3",
   "metadata": {},
   "outputs": [],
   "source": []
  }
 ],
 "metadata": {
  "kernelspec": {
   "display_name": "Python 3 (ipykernel)",
   "language": "python",
   "name": "python3"
  },
  "language_info": {
   "codemirror_mode": {
    "name": "ipython",
    "version": 3
   },
   "file_extension": ".py",
   "mimetype": "text/x-python",
   "name": "python",
   "nbconvert_exporter": "python",
   "pygments_lexer": "ipython3",
   "version": "3.9.7"
  }
 },
 "nbformat": 4,
 "nbformat_minor": 5
}
