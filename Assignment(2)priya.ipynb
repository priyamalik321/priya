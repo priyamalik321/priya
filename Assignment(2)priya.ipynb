{
 "cells": [
  {
   "cell_type": "markdown",
   "id": "06dc0614",
   "metadata": {},
   "source": [
    "# Assignment(2)"
   ]
  },
  {
   "cell_type": "markdown",
   "id": "304d869c",
   "metadata": {},
   "source": [
    "Answer(1)two value of boolean data type,(0,1)\n",
    "True=1\n",
    "\n",
    "False=0"
   ]
  },
  {
   "cell_type": "markdown",
   "id": "3382e196",
   "metadata": {},
   "source": [
    "Answer(2)Three type of boolean operators are:\n",
    "\n",
    "    (and,or,not)"
   ]
  },
  {
   "cell_type": "markdown",
   "id": "e5835d8a",
   "metadata": {},
   "source": [
    "answer(3)Boolean operator =(and)\n",
    "\n",
    "    True + True  = True\n",
    "    True + False = False\n",
    "    False + False = False\n",
    "    \n",
    "    boolean operator= (or)\n",
    "    True  + False = True\n",
    "    False + True = True\n",
    "    True + True= True\n",
    "    False+ False = False\n",
    "    \n",
    "    boolean operator= (not)\n",
    "    \n",
    "    True= False\n",
    "    False= True\n",
    "    \n",
    "    "
   ]
  },
  {
   "cell_type": "markdown",
   "id": "de20975a",
   "metadata": {},
   "source": [
    "answer(4)(5>  4) and (3 == 5)       (False)\n",
    "\n",
    "not (5>  4)                          (False)\n",
    "\n",
    "(5 > 4) or (3 == 5)                    (True)\n",
    "\n",
    "not ((5 > 4) or (3 == 5))              (False)\n",
    "\n",
    "(True and True) and (True == False)      (False)\n",
    "\n",
    "(not False) or (not True)                 (True)"
   ]
  },
  {
   "cell_type": "markdown",
   "id": "9a2dbc15",
   "metadata": {},
   "source": [
    "answer(5) Six comparision operators:\n",
    "    <,>,!=,<=,>=,=="
   ]
  },
  {
   "cell_type": "markdown",
   "id": "d818f7b6",
   "metadata": {},
   "source": [
    "answer(6)Equal to ==, is used when we want to show comparision between two values.\n",
    "eg: x==y\n",
    "Assignment operator = , is used when we assine some value to any variable.\n",
    "\n",
    "eg: a =22"
   ]
  },
  {
   "cell_type": "markdown",
   "id": "006980f0",
   "metadata": {},
   "source": [
    "Answer(7)spam = 0\n",
    "spam = 0\n",
    "if spam == 10:\n",
    "print(eggs)               first block from(spam =0 to print(\"ham\")\n",
    "if spam ; 5:\n",
    "print(bacon)\n",
    "else:\n",
    "print('ham') \n",
    "                                           \n",
    "print('spam')   =     second block\n",
    "                                           \n",
    "print(\"spam\")    =    third block"
   ]
  },
  {
   "cell_type": "markdown",
   "id": "afe7121d",
   "metadata": {},
   "source": [
    "Answer(9)Ctrl+C"
   ]
  },
  {
   "cell_type": "markdown",
   "id": "916fa7db",
   "metadata": {},
   "source": [
    "Answer(10)Break= when we write block of code and if we want to stop that code at that time we use break.\n",
    "\n",
    "Continue= we can use continue if we want to run our code in contineous manner."
   ]
  },
  {
   "cell_type": "markdown",
   "id": "6aa0ed9c",
   "metadata": {},
   "source": [
    "Answer(11)(i)  range(10)= it means it will iclude all number befor 10, and excluding 10.\n",
    "eg:\n",
    "   (0,1,2,3,4,5,6,7,8,9)\n",
    "    \n",
    " (ii)   range(0,10)= it means we having first number(0),and last number(10)(excluding 10.\n",
    "         eg:\n",
    "             (0,1,2,3,4,5,6,7,8,9)\n",
    "                                                                               \n",
    "  (iii)  range(0,10,1)= it mean we have first number(0) ,last number(10) and jump(1) then we will get    \n",
    "            range by jumping 1 time\n",
    "                                                                            \n",
    "         eg: (0,1,2,3,4,5,6,7,8,9)                                                                      \n",
    "\n",
    "        "
   ]
  },
  {
   "cell_type": "code",
   "execution_count": 3,
   "id": "268701f9",
   "metadata": {},
   "outputs": [
    {
     "name": "stdout",
     "output_type": "stream",
     "text": [
      "0\n",
      "1\n",
      "2\n",
      "3\n",
      "4\n",
      "5\n",
      "6\n",
      "7\n",
      "8\n",
      "9\n"
     ]
    }
   ],
   "source": [
    "#answer(12)\n",
    "for i in range(10):\n",
    "      print(i)"
   ]
  },
  {
   "cell_type": "code",
   "execution_count": 4,
   "id": "c15454a9",
   "metadata": {},
   "outputs": [
    {
     "name": "stdout",
     "output_type": "stream",
     "text": [
      "1\n",
      "2\n",
      "3\n",
      "4\n",
      "5\n",
      "6\n",
      "7\n",
      "8\n",
      "9\n"
     ]
    }
   ],
   "source": [
    "i=1\n",
    "while i<10:\n",
    "    print(i)\n",
    "    i=i+1"
   ]
  },
  {
   "cell_type": "markdown",
   "id": "dfa0fdfe",
   "metadata": {},
   "source": [
    "Answer(13)spam.bacon()\n"
   ]
  },
  {
   "cell_type": "code",
   "execution_count": 9,
   "id": "20d15e63",
   "metadata": {},
   "outputs": [
    {
     "name": "stdout",
     "output_type": "stream",
     "text": [
      "2\n",
      "howdy\n"
     ]
    }
   ],
   "source": [
    "#Answer(8)\n",
    "spam=input()\n",
    "if spam =='1':\n",
    "    print(\"hello\")\n",
    "elif spam=='2':\n",
    "        print(\"howdy\")\n",
    "else:\n",
    "    print(\"greeting!\")"
   ]
  },
  {
   "cell_type": "code",
   "execution_count": null,
   "id": "c2c1ad44",
   "metadata": {},
   "outputs": [],
   "source": []
  }
 ],
 "metadata": {
  "kernelspec": {
   "display_name": "Python 3 (ipykernel)",
   "language": "python",
   "name": "python3"
  },
  "language_info": {
   "codemirror_mode": {
    "name": "ipython",
    "version": 3
   },
   "file_extension": ".py",
   "mimetype": "text/x-python",
   "name": "python",
   "nbconvert_exporter": "python",
   "pygments_lexer": "ipython3",
   "version": "3.9.7"
  }
 },
 "nbformat": 4,
 "nbformat_minor": 5
}
