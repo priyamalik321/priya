{
 "cells": [
  {
   "cell_type": "markdown",
   "id": "ac0d27e5",
   "metadata": {},
   "source": [
    "difference between indexing and slicing:\n",
    "    indexing give index number of integers in list.\n",
    "    slicing give integer with starting , ending and jump .[::]"
   ]
  },
  {
   "cell_type": "markdown",
   "id": "85eb7dd3",
   "metadata": {},
   "source": [
    "Answer(6)difference between string and character data type is both are string.\n",
    "string is made up of many characters.\n",
    "character is single but tied with string,and its data type is string"
   ]
  },
  {
   "cell_type": "code",
   "execution_count": 14,
   "id": "8e83bd38",
   "metadata": {},
   "outputs": [
    {
     "data": {
      "text/plain": [
       "str"
      ]
     },
     "execution_count": 14,
     "metadata": {},
     "output_type": "execute_result"
    }
   ],
   "source": [
    "s='priya'\n",
    "type(s)\n",
    "a='b'\n",
    "type(a)"
   ]
  },
  {
   "cell_type": "markdown",
   "id": "80c99aac",
   "metadata": {},
   "source": [
    "Answer(5)datatype of indexed character is string."
   ]
  },
  {
   "cell_type": "code",
   "execution_count": 22,
   "id": "f427b946",
   "metadata": {},
   "outputs": [
    {
     "name": "stdout",
     "output_type": "stream",
     "text": [
      "<class 'str'>\n"
     ]
    }
   ],
   "source": [
    "s='priya'\n",
    "print(type(s[2]))\n",
    "    "
   ]
  },
  {
   "cell_type": "code",
   "execution_count": 25,
   "id": "f553f305",
   "metadata": {},
   "outputs": [
    {
     "data": {
      "text/plain": [
       "True"
      ]
     },
     "execution_count": 25,
     "metadata": {},
     "output_type": "execute_result"
    }
   ],
   "source": [
    "#Answer(9)True/False\n",
    "s='AB'\n",
    "s.isalpha()"
   ]
  },
  {
   "cell_type": "code",
   "execution_count": 29,
   "id": "aea3eafe",
   "metadata": {},
   "outputs": [
    {
     "name": "stdout",
     "output_type": "stream",
     "text": [
      "True\n",
      "0\n"
     ]
    }
   ],
   "source": [
    "#Answer(8)fruits='banana'\n",
    "print('b' in fruits)\n",
    "print(fruits.index('b'))\n"
   ]
  },
  {
   "cell_type": "code",
   "execution_count": 45,
   "id": "751db0cc",
   "metadata": {},
   "outputs": [
    {
     "name": "stdout",
     "output_type": "stream",
     "text": [
      "John Doe\n"
     ]
    }
   ],
   "source": [
    "first_name = \"John\"\n",
    "last_name = \"Doe\"\n",
    "full_name = first_name + \" \" + last_name\n",
    "print(full_name) "
   ]
  },
  {
   "cell_type": "code",
   "execution_count": 46,
   "id": "c875b641",
   "metadata": {},
   "outputs": [
    {
     "data": {
      "text/plain": [
       "'priya purchase 3 items'"
      ]
     },
     "execution_count": 46,
     "metadata": {},
     "output_type": "execute_result"
    }
   ],
   "source": [
    "a=3\n",
    "\n",
    "s='priya purchase {} items'.format(a)\n",
    "s"
   ]
  },
  {
   "cell_type": "code",
   "execution_count": 47,
   "id": "e8fb8980",
   "metadata": {},
   "outputs": [
    {
     "name": "stdout",
     "output_type": "stream",
     "text": [
      "0\n",
      "1\n",
      "2\n",
      "3\n",
      "4\n"
     ]
    }
   ],
   "source": [
    "s='priya'\n",
    "for i in s:\n",
    "    print(s.index(i))"
   ]
  },
  {
   "cell_type": "code",
   "execution_count": 57,
   "id": "f455f91b",
   "metadata": {},
   "outputs": [
    {
     "data": {
      "text/plain": [
       "'jriya'"
      ]
     },
     "execution_count": 57,
     "metadata": {},
     "output_type": "execute_result"
    }
   ],
   "source": [
    "s='priya'\n",
    "s_new='j'+s[1:]\n",
    "s_new"
   ]
  },
  {
   "cell_type": "code",
   "execution_count": 61,
   "id": "d436cfe3",
   "metadata": {},
   "outputs": [
    {
     "data": {
      "text/plain": [
       "'priyamalik'"
      ]
     },
     "execution_count": 61,
     "metadata": {},
     "output_type": "execute_result"
    }
   ],
   "source": [
    "a='priya'\n",
    "a+='malik'\n",
    "(a)\n"
   ]
  },
  {
   "cell_type": "code",
   "execution_count": null,
   "id": "7945cc1e",
   "metadata": {},
   "outputs": [],
   "source": []
  }
 ],
 "metadata": {
  "kernelspec": {
   "display_name": "Python 3 (ipykernel)",
   "language": "python",
   "name": "python3"
  },
  "language_info": {
   "codemirror_mode": {
    "name": "ipython",
    "version": 3
   },
   "file_extension": ".py",
   "mimetype": "text/x-python",
   "name": "python",
   "nbconvert_exporter": "python",
   "pygments_lexer": "ipython3",
   "version": "3.10.9"
  }
 },
 "nbformat": 4,
 "nbformat_minor": 5
}
