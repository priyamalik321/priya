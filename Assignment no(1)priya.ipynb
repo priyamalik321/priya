{
 "cells": [
  {
   "cell_type": "markdown",
   "id": "92524bb9",
   "metadata": {},
   "source": [
    "# Assignment 1"
   ]
  },
  {
   "cell_type": "markdown",
   "id": "2280dec5",
   "metadata": {},
   "source": [
    "Answer(1)(*)=expression)\n",
    "\n",
    "(hello=value)\n",
    "\n",
    "(-87.8=value)\n",
    "\n",
    "(-=expression)\n",
    "\n",
    "(/=expression)\n",
    "\n",
    "(+=expression)\n",
    "\n",
    "(6=value)"
   ]
  },
  {
   "cell_type": "markdown",
   "id": "01b993c4",
   "metadata": {},
   "source": [
    "Answer(2)String=string which inclosed characters in quotation marks(\"\").\n",
    "        variable= variable are those in which values are store, that can be int type, float type,etc.\n",
    "    eg:string=\"priya\"\n",
    "        eg:variable=a,b,c,d"
   ]
  },
  {
   "cell_type": "markdown",
   "id": "e6390ae7",
   "metadata": {},
   "source": [
    "Answer(3)Three different data types:\n",
    "\n",
    "    (i)numeric data type= int,float,complex\n",
    "    \n",
    "    (ii)set data type = set\n",
    "    \n",
    "    (iii)text data type=str\n",
    "    \n",
    "    (iv)boolean data type=bool\n",
    "    \n",
    "    (v)mapping data  type=dict\n",
    "    \n",
    "    (vi)sequence data type= list,tuple,range"
   ]
  },
  {
   "cell_type": "markdown",
   "id": "9fd8df3f",
   "metadata": {},
   "source": [
    "Answer(4)Expression means which include different operators.\n",
    "\n",
    "expressions help in making statement so that complete function will create.\n",
    "\n",
    "expression can include variable,value operator,\n",
    "\n",
    "eg: a,b,c,1,2,3,\"\",<,>,=,etc\n"
   ]
  },
  {
   "cell_type": "markdown",
   "id": "0b1ab647",
   "metadata": {},
   "source": [
    "Answer(5):spam =100\n",
    "\n",
    "    expression is (spam,=,100),group of operators,value,variable.\n",
    "    \n",
    "    statement is group of expressions(spam=10),is one statement."
   ]
  },
  {
   "cell_type": "code",
   "execution_count": 3,
   "id": "78e133b9",
   "metadata": {},
   "outputs": [
    {
     "data": {
      "text/plain": [
       "23"
      ]
     },
     "execution_count": 3,
     "metadata": {},
     "output_type": "execute_result"
    }
   ],
   "source": [
    "# Answer(6)\n",
    "bacon=22\n",
    "bacon+1"
   ]
  },
  {
   "cell_type": "code",
   "execution_count": 4,
   "id": "c342af98",
   "metadata": {},
   "outputs": [
    {
     "data": {
      "text/plain": [
       "'spamspamspam'"
      ]
     },
     "execution_count": 4,
     "metadata": {},
     "output_type": "execute_result"
    }
   ],
   "source": [
    "#answer(7)\n",
    "\"spam\"+\"spamspam\""
   ]
  },
  {
   "cell_type": "code",
   "execution_count": 5,
   "id": "034c48cb",
   "metadata": {},
   "outputs": [],
   "source": [
    "#answer(8)\n",
    "eggs is variable and 100 is integer"
   ]
  },
  {
   "cell_type": "code",
   "execution_count": null,
   "id": "02f13942",
   "metadata": {},
   "outputs": [],
   "source": []
  }
 ],
 "metadata": {
  "kernelspec": {
   "display_name": "Python 3 (ipykernel)",
   "language": "python",
   "name": "python3"
  },
  "language_info": {
   "codemirror_mode": {
    "name": "ipython",
    "version": 3
   },
   "file_extension": ".py",
   "mimetype": "text/x-python",
   "name": "python",
   "nbconvert_exporter": "python",
   "pygments_lexer": "ipython3",
   "version": "3.9.7"
  }
 },
 "nbformat": 4,
 "nbformat_minor": 5
}
