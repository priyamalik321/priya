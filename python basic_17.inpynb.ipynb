{
 "cells": [
  {
   "cell_type": "code",
   "execution_count": 1,
   "id": "17e67898",
   "metadata": {},
   "outputs": [
    {
     "name": "stdout",
     "output_type": "stream",
     "text": [
      "2\n",
      "justright\n"
     ]
    }
   ],
   "source": [
    "guess_me=int(input())\n",
    "if guess_me==7:\n",
    "    print(\"justright\")\n",
    "elif guess_me>7: \n",
    "    print(\"toohigh\")\n",
    "else:\n",
    "\n",
    "        print(\"justright\")\n",
    "        \n",
    "        \n",
    "        \n",
    "    "
   ]
  },
  {
   "cell_type": "code",
   "execution_count": 2,
   "id": "4be780a1",
   "metadata": {},
   "outputs": [
    {
     "name": "stdout",
     "output_type": "stream",
     "text": [
      "toolow\n",
      "toolow\n",
      "toolow\n",
      "toolow\n",
      "toolow\n",
      "toolow\n",
      "foundit!\n"
     ]
    }
   ],
   "source": [
    "guess_me=7\n",
    "start=1\n",
    "while True:\n",
    "    if start<guess_me:\n",
    "            print(\"toolow\")\n",
    "    elif start == guess_me:\n",
    "            print(\"foundit!\")\n",
    "            break\n",
    "    else:\n",
    "        print(\"ops\")\n",
    "        break\n",
    "    start+=1"
   ]
  },
  {
   "cell_type": "code",
   "execution_count": 3,
   "id": "bceee276",
   "metadata": {},
   "outputs": [
    {
     "name": "stdout",
     "output_type": "stream",
     "text": [
      "[3]\n",
      "[2]\n",
      "[1]\n",
      "[0]\n"
     ]
    }
   ],
   "source": [
    "l=[3, 2, 1, 0]\n",
    "for i in l :\n",
    "    if type(l)==list:\n",
    "        print( [i])"
   ]
  },
  {
   "cell_type": "code",
   "execution_count": 4,
   "id": "b8dc929e",
   "metadata": {},
   "outputs": [
    {
     "name": "stdout",
     "output_type": "stream",
     "text": [
      "[0, 2, 4, 6, 8]\n"
     ]
    }
   ],
   "source": [
    "l=[i for i in range(10) if i%2==0]\n",
    "print(l)"
   ]
  },
  {
   "cell_type": "code",
   "execution_count": 5,
   "id": "ed5d70a6",
   "metadata": {},
   "outputs": [
    {
     "name": "stdout",
     "output_type": "stream",
     "text": [
      "{0: 0, 1: 1, 2: 4, 3: 9, 4: 16, 5: 25, 6: 36, 7: 49, 8: 64, 9: 81}\n"
     ]
    }
   ],
   "source": [
    "d={i:i**2 for i in range(10) }\n",
    "print(d)"
   ]
  },
  {
   "cell_type": "code",
   "execution_count": 6,
   "id": "22ec4854",
   "metadata": {},
   "outputs": [
    {
     "name": "stdout",
     "output_type": "stream",
     "text": [
      "{1, 3, 5, 7, 9}\n"
     ]
    }
   ],
   "source": [
    "s={i for i in range (10) if i %2!=0}\n",
    "print(s)"
   ]
  },
  {
   "cell_type": "code",
   "execution_count": 7,
   "id": "209a202b",
   "metadata": {},
   "outputs": [],
   "source": [
    "def good():\n",
    "     return ['Harry','Ron','Hermione']"
   ]
  },
  {
   "cell_type": "code",
   "execution_count": 8,
   "id": "ae7af801",
   "metadata": {},
   "outputs": [
    {
     "data": {
      "text/plain": [
       "['Harry', 'Ron', 'Hermione']"
      ]
     },
     "execution_count": 8,
     "metadata": {},
     "output_type": "execute_result"
    }
   ],
   "source": [
    "good()"
   ]
  },
  {
   "cell_type": "code",
   "execution_count": 9,
   "id": "62da8aa1",
   "metadata": {},
   "outputs": [],
   "source": [
    "def get_odd():\n",
    "    for i in range(10):\n",
    "        if i%2!=0:\n",
    "            yield i \n",
    "        "
   ]
  },
  {
   "cell_type": "code",
   "execution_count": 10,
   "id": "19af8a6c",
   "metadata": {},
   "outputs": [
    {
     "data": {
      "text/plain": [
       "<generator object get_odd at 0x0000014858A70740>"
      ]
     },
     "execution_count": 10,
     "metadata": {},
     "output_type": "execute_result"
    }
   ],
   "source": [
    "get_odd()"
   ]
  },
  {
   "cell_type": "code",
   "execution_count": 11,
   "id": "f71a4c21",
   "metadata": {},
   "outputs": [
    {
     "name": "stdout",
     "output_type": "stream",
     "text": [
      "1\n",
      "3\n",
      "5\n",
      "7\n",
      "9\n"
     ]
    }
   ],
   "source": [
    "for i in get_odd():\n",
    "    print(i)"
   ]
  },
  {
   "cell_type": "code",
   "execution_count": 32,
   "id": "dd179e71",
   "metadata": {},
   "outputs": [],
   "source": [
    "title=['Creature of Habit','Crewel Fate']\n",
    "plot=['A nun turns into a monster','A haunted yarn shop']"
   ]
  },
  {
   "cell_type": "code",
   "execution_count": 33,
   "id": "00c39750",
   "metadata": {},
   "outputs": [
    {
     "data": {
      "text/plain": [
       "<zip at 0x14858a18e00>"
      ]
     },
     "execution_count": 33,
     "metadata": {},
     "output_type": "execute_result"
    }
   ],
   "source": [
    "zip(title,plot)"
   ]
  },
  {
   "cell_type": "code",
   "execution_count": 34,
   "id": "7ea9ed4c",
   "metadata": {},
   "outputs": [],
   "source": [
    "movie=dict(zip(title,plot))"
   ]
  },
  {
   "cell_type": "code",
   "execution_count": 35,
   "id": "43ee4a2e",
   "metadata": {},
   "outputs": [
    {
     "data": {
      "text/plain": [
       "{'Creature of Habit': 'A nun turns into a monster',\n",
       " 'Crewel Fate': 'A haunted yarn shop'}"
      ]
     },
     "execution_count": 35,
     "metadata": {},
     "output_type": "execute_result"
    }
   ],
   "source": [
    "movie"
   ]
  },
  {
   "cell_type": "code",
   "execution_count": null,
   "id": "9450f2ac",
   "metadata": {},
   "outputs": [],
   "source": [
    "10. Define an exception called OopsException. Raise this exception to see what happens. Then write\n",
    "the code to catch this exception and print\"catch an oops\"."
   ]
  },
  {
   "cell_type": "code",
   "execution_count": null,
   "id": "1634281e",
   "metadata": {},
   "outputs": [],
   "source": []
  },
  {
   "cell_type": "code",
   "execution_count": null,
   "id": "9c6590c3",
   "metadata": {},
   "outputs": [],
   "source": []
  }
 ],
 "metadata": {
  "kernelspec": {
   "display_name": "Python 3 (ipykernel)",
   "language": "python",
   "name": "python3"
  },
  "language_info": {
   "codemirror_mode": {
    "name": "ipython",
    "version": 3
   },
   "file_extension": ".py",
   "mimetype": "text/x-python",
   "name": "python",
   "nbconvert_exporter": "python",
   "pygments_lexer": "ipython3",
   "version": "3.10.9"
  }
 },
 "nbformat": 4,
 "nbformat_minor": 5
}
