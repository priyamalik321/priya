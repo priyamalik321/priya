{
 "cells": [
  {
   "cell_type": "markdown",
   "id": "f946be84",
   "metadata": {},
   "source": [
    "# Assignment (4)priya"
   ]
  },
  {
   "cell_type": "markdown",
   "id": "c1d1a192",
   "metadata": {},
   "source": [
    "Answer(1)[]=it is a square bracket.\n",
    "\n",
    "we can use it for making list,or for anothor use."
   ]
  },
  {
   "cell_type": "code",
   "execution_count": 1,
   "id": "8bd57848",
   "metadata": {},
   "outputs": [],
   "source": [
    "# answer(2)\n",
    "spam=[2,4,6,8,10]\n",
    "spam[2]=\"hello\""
   ]
  },
  {
   "cell_type": "code",
   "execution_count": 2,
   "id": "966fb0ae",
   "metadata": {},
   "outputs": [
    {
     "data": {
      "text/plain": [
       "[2, 4, 'hello', 8, 10]"
      ]
     },
     "execution_count": 2,
     "metadata": {},
     "output_type": "execute_result"
    }
   ],
   "source": [
    "spam"
   ]
  },
  {
   "cell_type": "code",
   "execution_count": 3,
   "id": "a97233e4",
   "metadata": {},
   "outputs": [
    {
     "data": {
      "text/plain": [
       "'d'"
      ]
     },
     "execution_count": 3,
     "metadata": {},
     "output_type": "execute_result"
    }
   ],
   "source": [
    "# answer(3)\n",
    "spam=['a','b','c','d']\n",
    "spam[-1]\n"
   ]
  },
  {
   "cell_type": "code",
   "execution_count": 4,
   "id": "8dd4292a",
   "metadata": {},
   "outputs": [
    {
     "data": {
      "text/plain": [
       "['a', 'b']"
      ]
     },
     "execution_count": 4,
     "metadata": {},
     "output_type": "execute_result"
    }
   ],
   "source": [
    "# answer(4)\n",
    "spam[:2]"
   ]
  },
  {
   "cell_type": "code",
   "execution_count": 5,
   "id": "ef84f6c7",
   "metadata": {},
   "outputs": [
    {
     "data": {
      "text/plain": [
       "'d'"
      ]
     },
     "execution_count": 5,
     "metadata": {},
     "output_type": "execute_result"
    }
   ],
   "source": [
    "# answer(5)\n",
    "spam[int(int('3'*2)//11)]"
   ]
  },
  {
   "cell_type": "code",
   "execution_count": 6,
   "id": "12c0e54a",
   "metadata": {},
   "outputs": [],
   "source": [
    "#answer(6)\n",
    "bacon=[3.14,'cat',11,'cat',True]\n"
   ]
  },
  {
   "cell_type": "code",
   "execution_count": 7,
   "id": "6001206f",
   "metadata": {},
   "outputs": [
    {
     "data": {
      "text/plain": [
       "1"
      ]
     },
     "execution_count": 7,
     "metadata": {},
     "output_type": "execute_result"
    }
   ],
   "source": [
    "bacon.index('cat')"
   ]
  },
  {
   "cell_type": "code",
   "execution_count": 8,
   "id": "f272e8cd",
   "metadata": {},
   "outputs": [],
   "source": [
    "# answer(7)  \n",
    "bacon.append(99)\n",
    "            "
   ]
  },
  {
   "cell_type": "code",
   "execution_count": 9,
   "id": "731f7bd8",
   "metadata": {},
   "outputs": [
    {
     "data": {
      "text/plain": [
       "[3.14, 'cat', 11, 'cat', True, 99]"
      ]
     },
     "execution_count": 9,
     "metadata": {},
     "output_type": "execute_result"
    }
   ],
   "source": [
    "bacon"
   ]
  },
  {
   "cell_type": "code",
   "execution_count": 10,
   "id": "52d0bdda",
   "metadata": {},
   "outputs": [],
   "source": [
    "#answer(8)\n",
    "bacon.remove(\"cat\")"
   ]
  },
  {
   "cell_type": "code",
   "execution_count": 11,
   "id": "fa367f3a",
   "metadata": {},
   "outputs": [
    {
     "data": {
      "text/plain": [
       "[3.14, 11, 'cat', True, 99]"
      ]
     },
     "execution_count": 11,
     "metadata": {},
     "output_type": "execute_result"
    }
   ],
   "source": [
    "bacon"
   ]
  },
  {
   "cell_type": "code",
   "execution_count": 12,
   "id": "b07c854f",
   "metadata": {},
   "outputs": [
    {
     "data": {
      "text/plain": [
       "[1, 2, 3, 4, 5, 3, 4, 5, 6, 7]"
      ]
     },
     "execution_count": 12,
     "metadata": {},
     "output_type": "execute_result"
    }
   ],
   "source": [
    "#Answer(9)concatination list operator:in this  we can add two list in a new list.\n",
    "[1,2,3,4,5]+[3,4,5,6,7]"
   ]
  },
  {
   "cell_type": "code",
   "execution_count": 13,
   "id": "f9668f7b",
   "metadata": {},
   "outputs": [
    {
     "data": {
      "text/plain": [
       "[1, 2, 3, 4, 5, 1, 2, 3, 4, 5]"
      ]
     },
     "execution_count": 13,
     "metadata": {},
     "output_type": "execute_result"
    }
   ],
   "source": [
    "#replication list operator:in this we can multiply specific list by any integer number.\n",
    "[1,2,3,4,5]*2"
   ]
  },
  {
   "cell_type": "markdown",
   "id": "40cbb78b",
   "metadata": {},
   "source": [
    "#Answer(6)list.append()method:\n",
    "list.append()method means in this method if we want to store any type of value in list ,then it will store \n",
    "at last.\n",
    "\n",
    "list.insert()method means in this method if we want to stor any value in list ,then we first write index number\n",
    "and then write value that we want on specific place of that index."
   ]
  },
  {
   "cell_type": "code",
   "execution_count": 14,
   "id": "cbece879",
   "metadata": {},
   "outputs": [],
   "source": [
    "#answer(10)list.append()(eg):\n",
    "l=[1,2,3,4,5]\n",
    "l.append(21)\n"
   ]
  },
  {
   "cell_type": "code",
   "execution_count": 15,
   "id": "e1c8ae9d",
   "metadata": {},
   "outputs": [],
   "source": [
    "l.insert(0,12)"
   ]
  },
  {
   "cell_type": "code",
   "execution_count": 16,
   "id": "2d5dfa14",
   "metadata": {},
   "outputs": [
    {
     "data": {
      "text/plain": [
       "[12, 1, 2, 3, 4, 5, 21]"
      ]
     },
     "execution_count": 16,
     "metadata": {},
     "output_type": "execute_result"
    }
   ],
   "source": [
    "l"
   ]
  },
  {
   "cell_type": "code",
   "execution_count": 17,
   "id": "7b077ad3",
   "metadata": {},
   "outputs": [],
   "source": [
    "# answer(11)two methord are remove,pop,del:\n",
    "l=[1,2,3,4]\n",
    "l.remove(3)"
   ]
  },
  {
   "cell_type": "code",
   "execution_count": 18,
   "id": "72aeadaa",
   "metadata": {},
   "outputs": [
    {
     "data": {
      "text/plain": [
       "[1, 2, 4]"
      ]
     },
     "execution_count": 18,
     "metadata": {},
     "output_type": "execute_result"
    }
   ],
   "source": [
    "l"
   ]
  },
  {
   "cell_type": "code",
   "execution_count": 19,
   "id": "16f42f5e",
   "metadata": {},
   "outputs": [
    {
     "data": {
      "text/plain": [
       "1"
      ]
     },
     "execution_count": 19,
     "metadata": {},
     "output_type": "execute_result"
    }
   ],
   "source": [
    "l.pop(0)\n",
    "     "
   ]
  },
  {
   "cell_type": "code",
   "execution_count": 20,
   "id": "493f9b9e",
   "metadata": {},
   "outputs": [
    {
     "data": {
      "text/plain": [
       "[2, 4]"
      ]
     },
     "execution_count": 20,
     "metadata": {},
     "output_type": "execute_result"
    }
   ],
   "source": [
    "l"
   ]
  },
  {
   "cell_type": "code",
   "execution_count": 21,
   "id": "4bf4a2d5",
   "metadata": {},
   "outputs": [],
   "source": [
    "del l[0]"
   ]
  },
  {
   "cell_type": "code",
   "execution_count": 22,
   "id": "1c675762",
   "metadata": {},
   "outputs": [
    {
     "data": {
      "text/plain": [
       "[4]"
      ]
     },
     "execution_count": 22,
     "metadata": {},
     "output_type": "execute_result"
    }
   ],
   "source": [
    "l"
   ]
  },
  {
   "cell_type": "code",
   "execution_count": 23,
   "id": "13c909d3",
   "metadata": {},
   "outputs": [
    {
     "data": {
      "text/plain": [
       "7"
      ]
     },
     "execution_count": 23,
     "metadata": {},
     "output_type": "execute_result"
    }
   ],
   "source": [
    "#answer12()\n",
    "l=[1,2,3,4,5,6,7]\n",
    "len(l)\n"
   ]
  },
  {
   "cell_type": "code",
   "execution_count": 24,
   "id": "55156f8b",
   "metadata": {},
   "outputs": [
    {
     "data": {
      "text/plain": [
       "7"
      ]
     },
     "execution_count": 24,
     "metadata": {},
     "output_type": "execute_result"
    }
   ],
   "source": [
    "s=\"priyama\"\n",
    "len(s)"
   ]
  },
  {
   "cell_type": "markdown",
   "id": "c19a04af",
   "metadata": {},
   "source": [
    "answer13()difference between list and tuple:\n",
    "\n",
    "list: values that store in list, are closed in squar bracket []\n",
    " \n",
    "eg: [1,2,3,4,5]\n",
    "\n",
    "tuple: values that store in tuple are closed in round bracket()   \n",
    "eg: (1,2,3,4,5)\n",
    "    "
   ]
  },
  {
   "cell_type": "code",
   "execution_count": 25,
   "id": "9a6630b0",
   "metadata": {},
   "outputs": [],
   "source": [
    "#answer(14)\n",
    "t=(42,)\n"
   ]
  },
  {
   "cell_type": "code",
   "execution_count": 26,
   "id": "a6e98579",
   "metadata": {},
   "outputs": [
    {
     "data": {
      "text/plain": [
       "(tuple, tuple)"
      ]
     },
     "execution_count": 26,
     "metadata": {},
     "output_type": "execute_result"
    }
   ],
   "source": [
    "(tuple,type(t))"
   ]
  },
  {
   "cell_type": "code",
   "execution_count": 27,
   "id": "d7f38ca3",
   "metadata": {},
   "outputs": [],
   "source": [
    "#answer(15)\n",
    "t1=[1,2,3,4,5]"
   ]
  },
  {
   "cell_type": "code",
   "execution_count": 29,
   "id": "ac413461",
   "metadata": {},
   "outputs": [
    {
     "data": {
      "text/plain": [
       "(1, 2, 3, 4, 5)"
      ]
     },
     "execution_count": 29,
     "metadata": {},
     "output_type": "execute_result"
    }
   ],
   "source": [
    "tuple(t1)"
   ]
  },
  {
   "cell_type": "code",
   "execution_count": 30,
   "id": "e7b91485",
   "metadata": {},
   "outputs": [
    {
     "data": {
      "text/plain": [
       "[1, 2, 3, 4, 5]"
      ]
     },
     "execution_count": 30,
     "metadata": {},
     "output_type": "execute_result"
    }
   ],
   "source": [
    "list(t1)"
   ]
  },
  {
   "cell_type": "code",
   "execution_count": 32,
   "id": "2575f8ad",
   "metadata": {},
   "outputs": [],
   "source": [
    "#answer(16)variable not necessery to contain list values only it can contain ,\n",
    "\n",
    "a=[1,2,3,4]\n",
    "\n",
    "b=(1,2,\"dd\",2.2)"
   ]
  },
  {
   "cell_type": "code",
   "execution_count": 33,
   "id": "1c4f278c",
   "metadata": {},
   "outputs": [],
   "source": [
    "#answer(17)A shallow copy constructs a new compound object and then (to the extent possible) inserts references into it to the objects found in the original. A deep copy constructs a new compound object and then, recursively, inserts copies into it of the objects found in the original.\n"
   ]
  },
  {
   "cell_type": "code",
   "execution_count": null,
   "id": "884fd6cb",
   "metadata": {},
   "outputs": [],
   "source": []
  }
 ],
 "metadata": {
  "kernelspec": {
   "display_name": "Python 3 (ipykernel)",
   "language": "python",
   "name": "python3"
  },
  "language_info": {
   "codemirror_mode": {
    "name": "ipython",
    "version": 3
   },
   "file_extension": ".py",
   "mimetype": "text/x-python",
   "name": "python",
   "nbconvert_exporter": "python",
   "pygments_lexer": "ipython3",
   "version": "3.9.7"
  }
 },
 "nbformat": 4,
 "nbformat_minor": 5
}
